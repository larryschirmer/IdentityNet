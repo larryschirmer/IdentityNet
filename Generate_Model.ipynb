{
  "cells": [
    {
      "metadata": {
        "trusted": true
      },
      "cell_type": "code",
      "source": "!pip install --upgrade torch\n!pip install --upgrade onnxruntime\n!pip install --upgrade numpy",
      "execution_count": 1,
      "outputs": [
        {
          "output_type": "stream",
          "text": "Requirement already up-to-date: torch in /home/nbuser/anaconda3_501/lib/python3.6/site-packages (1.0.1.post2)\nRequirement already up-to-date: onnxruntime in /home/nbuser/anaconda3_501/lib/python3.6/site-packages (0.3.0)\nRequirement already up-to-date: numpy in /home/nbuser/anaconda3_501/lib/python3.6/site-packages (1.16.2)\n",
          "name": "stdout"
        }
      ]
    },
    {
      "metadata": {
        "trusted": true
      },
      "cell_type": "code",
      "source": "import torch\nimport numpy\nimport onnxruntime",
      "execution_count": 3,
      "outputs": []
    },
    {
      "metadata": {
        "trusted": true
      },
      "cell_type": "code",
      "source": "print(torch.__version__)\nprint(onnxruntime.__version__)\nprint(numpy.__version__)",
      "execution_count": 4,
      "outputs": [
        {
          "output_type": "stream",
          "text": "1.0.1.post2\n0.3.0\n1.16.2\n",
          "name": "stdout"
        }
      ]
    },
    {
      "metadata": {
        "trusted": true
      },
      "cell_type": "code",
      "source": "",
      "execution_count": null,
      "outputs": []
    },
    {
      "metadata": {
        "trusted": true
      },
      "cell_type": "code",
      "source": "class IdentityNet(torch.nn.Module):\n  def __init__(self):\n    super(IdentityNet, self).__init__()\n    \n    in_dim = 1\n    hidden_dim = 50\n    out_dim = 1\n    \n    self.linear0 = torch.nn.Linear(in_dim, hidden_dim)\n    self.linear1 = torch.nn.Linear(hidden_dim, out_dim)\n   \n  def forward(self, x):\n    x = torch.relu(self.linear0(x))\n    x = torch.relu(self.linear1(x))\n    \n    return x",
      "execution_count": 5,
      "outputs": []
    },
    {
      "metadata": {
        "trusted": true
      },
      "cell_type": "code",
      "source": "model = IdentityNet()",
      "execution_count": 12,
      "outputs": []
    },
    {
      "metadata": {
        "trusted": true
      },
      "cell_type": "code",
      "source": "lr = 0.001\n\ncriterion = torch.nn.SmoothL1Loss(reduction='none')\noptimizer = torch.optim.SGD(model.parameters(), lr=lr)",
      "execution_count": 13,
      "outputs": []
    },
    {
      "metadata": {
        "trusted": true
      },
      "cell_type": "code",
      "source": "",
      "execution_count": null,
      "outputs": []
    },
    {
      "metadata": {
        "trusted": true
      },
      "cell_type": "code",
      "source": "record_amt = 10\n\ninputs = torch.arange(0,record_amt,dtype=torch.float).view(-1,1)\noutputs = torch.arange(0,record_amt,dtype=torch.float).view(-1,1)",
      "execution_count": 8,
      "outputs": []
    },
    {
      "metadata": {
        "trusted": true
      },
      "cell_type": "code",
      "source": "inputs = inputs / record_amt\noutputs = outputs / record_amt\n\nprint(inputs[5], outputs[5])\n",
      "execution_count": 9,
      "outputs": [
        {
          "output_type": "stream",
          "text": "tensor([0.5000]) tensor([0.5000])\n",
          "name": "stdout"
        }
      ]
    },
    {
      "metadata": {
        "trusted": true
      },
      "cell_type": "code",
      "source": "",
      "execution_count": null,
      "outputs": []
    },
    {
      "metadata": {
        "trusted": true
      },
      "cell_type": "code",
      "source": "epochs = 100",
      "execution_count": 10,
      "outputs": []
    },
    {
      "metadata": {
        "trusted": true
      },
      "cell_type": "code",
      "source": "epoch_loss = 0\nfor epoch in range(0,epochs):\n  \n  for t in range(record_amt):\n      # Forward pass: Compute predicted y by passing x to the model\n      y_pred = model(inputs[t])\n\n      # Compute and print loss\n      loss = criterion(y_pred, outputs[t])\n      epoch_loss = loss.item()\n\n      # Zero gradients, perform a backward pass, and update the weights.\n      optimizer.zero_grad()\n      loss.backward()\n      optimizer.step()\n\nprint(epoch_loss, model(inputs[1]).item())",
      "execution_count": 23,
      "outputs": [
        {
          "output_type": "stream",
          "text": "3.282956413386273e-06 0.10008850693702698\n",
          "name": "stdout"
        }
      ]
    },
    {
      "metadata": {
        "trusted": true
      },
      "cell_type": "code",
      "source": "y_pred = model(torch.tensor([0.55],dtype=torch.float))\nprint(y_pred.item())",
      "execution_count": 24,
      "outputs": [
        {
          "output_type": "stream",
          "text": "0.5439932942390442\n",
          "name": "stdout"
        }
      ]
    },
    {
      "metadata": {
        "trusted": true
      },
      "cell_type": "code",
      "source": "onnx_input = torch.tensor([0.55],dtype=torch.float)\ninput_names = [ \"input\" ]\ntorch.onnx.export(model, onnx_input, \"identity_net.onnx\", verbose=True, input_names=input_names)",
      "execution_count": 25,
      "outputs": [
        {
          "output_type": "stream",
          "text": "graph(%input : Float(1)\n      %1 : Float(50, 1)\n      %2 : Float(50)\n      %3 : Float(1, 50)\n      %4 : Float(1)) {\n  %5 : Float(1!, 50) = onnx::Transpose[perm=[1, 0]](%1), scope: IdentityNet/Linear[linear0]\n  %6 : Float(50) = onnx::MatMul(%input, %5), scope: IdentityNet/Linear[linear0]\n  %7 : Float(50) = onnx::Add(%6, %2), scope: IdentityNet/Linear[linear0]\n  %8 : Float(50) = onnx::Relu(%7), scope: IdentityNet\n  %9 : Float(50!, 1!) = onnx::Transpose[perm=[1, 0]](%3), scope: IdentityNet/Linear[linear1]\n  %10 : Float(1) = onnx::MatMul(%8, %9), scope: IdentityNet/Linear[linear1]\n  %11 : Float(1) = onnx::Add(%10, %4), scope: IdentityNet/Linear[linear1]\n  %12 : Float(1) = onnx::Relu(%11), scope: IdentityNet\n  return (%12);\n}\n\n",
          "name": "stdout"
        }
      ]
    },
    {
      "metadata": {
        "trusted": true
      },
      "cell_type": "code",
      "source": "",
      "execution_count": null,
      "outputs": []
    },
    {
      "metadata": {
        "trusted": true
      },
      "cell_type": "code",
      "source": "session = onnxruntime.InferenceSession(\"identity_net.onnx\")",
      "execution_count": 26,
      "outputs": []
    },
    {
      "metadata": {
        "trusted": true
      },
      "cell_type": "code",
      "source": "session.get_modelmeta()\ninput_name = session.get_inputs()[0].name\noutput_name = session.get_outputs()[0].name\n\nprint(input_name)\nprint(output_name)",
      "execution_count": 27,
      "outputs": [
        {
          "output_type": "stream",
          "text": "input\n12\n",
          "name": "stdout"
        }
      ]
    },
    {
      "metadata": {
        "trusted": true
      },
      "cell_type": "code",
      "source": "indata = numpy.array([0.55], dtype=numpy.float32)\nresults = session.run(None, {input_name: indata})",
      "execution_count": 28,
      "outputs": []
    },
    {
      "metadata": {
        "trusted": true
      },
      "cell_type": "code",
      "source": "print(results)",
      "execution_count": 29,
      "outputs": [
        {
          "output_type": "stream",
          "text": "[array([0.5439933], dtype=float32)]\n",
          "name": "stdout"
        }
      ]
    },
    {
      "metadata": {
        "trusted": true
      },
      "cell_type": "code",
      "source": "",
      "execution_count": null,
      "outputs": []
    }
  ],
  "metadata": {
    "kernelspec": {
      "name": "python36",
      "display_name": "Python 3.6",
      "language": "python"
    },
    "language_info": {
      "mimetype": "text/x-python",
      "nbconvert_exporter": "python",
      "name": "python",
      "pygments_lexer": "ipython3",
      "version": "3.6.6",
      "file_extension": ".py",
      "codemirror_mode": {
        "version": 3,
        "name": "ipython"
      }
    }
  },
  "nbformat": 4,
  "nbformat_minor": 2
}